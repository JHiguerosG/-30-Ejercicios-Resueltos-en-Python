{
 "cells": [
  {
   "cell_type": "markdown",
   "id": "87f32c50-5111-4138-a961-890b0263ac5e",
   "metadata": {},
   "source": [
    "# Ejercicio 15: Mayúsculas y Minúsculas\n",
    "\n",
    "## ► Teoría:\n",
    "\n",
    "En la práctica, existe un código estándar, el código ASCII (código estándar amer icano para intercambio de información), que relaciona cada letra, número o símbolo con una cifra del **0** al **255** (con una secuencia de 8 bits):\n",
    "\n",
    "- La \"a\" es el número 97  \n",
    "- La \"b\" es el número 98  \n",
    "- La \"A\" es el número 65    \n",
    "- La \"B\" es el número  67    \n",
    "- El  \"0\" es el número 48  \n",
    "- El  \"1\" es el número 49, etc.  \n",
    "\n",
    "Así se tiene una forma muy cómoda de almacenar la información en ordenadores, ya que cada letra ocupará exactamente un byte (8 bits: 8 posiciones elementales de memoria).\n",
    "\n",
    "## ► Enunciado:\n",
    "\n",
    "Escribir un programa que solicite al usuario una letra y diga si esta es **MAYÚSCULA** o **minúscula**."
   ]
  },
  {
   "cell_type": "code",
   "execution_count": 22,
   "id": "15148676-d28e-46bd-a3f1-9b14aef5fa77",
   "metadata": {},
   "outputs": [
    {
     "name": "stdin",
     "output_type": "stream",
     "text": [
      ">>> Ingresa una letra del abecedario:  3\n"
     ]
    },
    {
     "name": "stdout",
     "output_type": "stream",
     "text": [
      "No puedes ingresar números. Intenta de nuevo.\n",
      "\n"
     ]
    },
    {
     "name": "stdin",
     "output_type": "stream",
     "text": [
      ">>> Ingresa una letra del abecedario:  ds\n"
     ]
    },
    {
     "name": "stdout",
     "output_type": "stream",
     "text": [
      "Solo puedes ingresar una letra. Intenta de nuevo.\n",
      "\n"
     ]
    },
    {
     "name": "stdin",
     "output_type": "stream",
     "text": [
      ">>> Ingresa una letra del abecedario:  T\n"
     ]
    },
    {
     "name": "stdout",
     "output_type": "stream",
     "text": [
      "La letra T es mayúscula.\n"
     ]
    }
   ],
   "source": [
    "while True:\n",
    "    letra = input('>>> Ingresa una letra del abecedario: ')\n",
    "    \n",
    "    if letra.isdigit():\n",
    "        print('No puedes ingresar números. Intenta de nuevo.\\n')\n",
    "        continue\n",
    "    elif len(letra) > 1:\n",
    "        print('Solo puedes ingresar una letra. Intenta de nuevo.\\n')\n",
    "        continue\n",
    "    break\n",
    "\n",
    "if letra.isalpha():\n",
    "    if ord(letra) in range(65, 91) or ord(letra) == 209:\n",
    "        print(f'La letra {letra} es mayúscula.')\n",
    "    elif ord(letra) in range(97, 123) or ord(letra) == 241:\n",
    "        print(f'La letra {letra} es minúscula.')\n",
    "            "
   ]
  }
 ],
 "metadata": {
  "kernelspec": {
   "display_name": "Python 3 (ipykernel)",
   "language": "python",
   "name": "python3"
  },
  "language_info": {
   "codemirror_mode": {
    "name": "ipython",
    "version": 3
   },
   "file_extension": ".py",
   "mimetype": "text/x-python",
   "name": "python",
   "nbconvert_exporter": "python",
   "pygments_lexer": "ipython3",
   "version": "3.12.3"
  }
 },
 "nbformat": 4,
 "nbformat_minor": 5
}
