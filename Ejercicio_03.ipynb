{
 "cells": [
  {
   "cell_type": "markdown",
   "id": "52d14513-a3f9-4f12-8264-83c0751cc5be",
   "metadata": {},
   "source": [
    "# Ejercicio 3: Nombre y Apellido\n",
    "\n",
    "## Enunciado:\n",
    "\n",
    "Escribir un programa que pregunte el nombre y apellido del usuario. Luego de ser introducidos los datos muestre por pantalla la cadena **¡Hola {nombre} {apellido}, gusto en conocerte!**, donde:\n",
    "\n",
    "**{nombre}** y **{apellido}** son los valores introducidos."
   ]
  },
  {
   "cell_type": "code",
   "execution_count": 3,
   "id": "6080bedf-3bc8-4575-8b90-a335d98ef1c0",
   "metadata": {},
   "outputs": [
    {
     "name": "stdin",
     "output_type": "stream",
     "text": [
      ">>> ¿Cuál es tu nombre? Jonathan\n",
      ">>> ¿Y cuál es tu apellido? Higueros\n"
     ]
    },
    {
     "name": "stdout",
     "output_type": "stream",
     "text": [
      "¡Hola Jonathan Higueros, gusto en conocerte!\n"
     ]
    }
   ],
   "source": [
    "nombre = input('>>> ¿Cuál es tu nombre?')\n",
    "apellido = input('>>> ¿Y cuál es tu apellido?')\n",
    "print(f'¡Hola {nombre} {apellido}, gusto en conocerte!')"
   ]
  }
 ],
 "metadata": {
  "kernelspec": {
   "display_name": "Python 3 (ipykernel)",
   "language": "python",
   "name": "python3"
  },
  "language_info": {
   "codemirror_mode": {
    "name": "ipython",
    "version": 3
   },
   "file_extension": ".py",
   "mimetype": "text/x-python",
   "name": "python",
   "nbconvert_exporter": "python",
   "pygments_lexer": "ipython3",
   "version": "3.12.7"
  }
 },
 "nbformat": 4,
 "nbformat_minor": 5
}
