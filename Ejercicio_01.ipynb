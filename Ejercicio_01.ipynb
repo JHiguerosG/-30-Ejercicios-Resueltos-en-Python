{
 "cells": [
  {
   "cell_type": "markdown",
   "id": "6bb42ed9-f558-43de-844e-1a3495a252a0",
   "metadata": {},
   "source": [
    "# Ejercicio 1: Imprimir un Mensaje en Pantalla\n",
    "\n",
    "## Enunciado:\n",
    "\n",
    "Escribir un programa que muestre por pantalla el siguiente mensaje: \n",
    "\n",
    "La felicidad se puede encontrar hasta en los más oscuros  \n",
    "momentos, si somos capaces de usar bien la luz.  \n",
    "— Albus Dumbledore  "
   ]
  },
  {
   "cell_type": "code",
   "execution_count": 1,
   "id": "afd0fad6-5615-4616-9cd8-9c34a81842fd",
   "metadata": {},
   "outputs": [
    {
     "name": "stdout",
     "output_type": "stream",
     "text": [
      "La felicidad se puede encontrar hasta en los más oscuros\n",
      "momentos, si somos capaces de usar bien la luz.\n",
      "- Albus Dumbledore\n"
     ]
    }
   ],
   "source": [
    "print('''La felicidad se puede encontrar hasta en los más oscuros\n",
    "momentos, si somos capaces de usar bien la luz.\n",
    "- Albus Dumbledore''')"
   ]
  },
  {
   "cell_type": "code",
   "execution_count": 2,
   "id": "519a07eb-f667-4070-b5e1-1b5634893d9c",
   "metadata": {},
   "outputs": [
    {
     "name": "stdout",
     "output_type": "stream",
     "text": [
      "La felicidad se puede encontrar hasta en los más oscuros\n",
      "momentos, si somos capaces de usar bien la luz.\n",
      "- Albus Dumbledore\n"
     ]
    }
   ],
   "source": [
    "print('La felicidad se puede encontrar hasta en los más oscuros')\n",
    "print('momentos, si somos capaces de usar bien la luz.')\n",
    "print('- Albus Dumbledore')"
   ]
  }
 ],
 "metadata": {
  "kernelspec": {
   "display_name": "Python 3 (ipykernel)",
   "language": "python",
   "name": "python3"
  },
  "language_info": {
   "codemirror_mode": {
    "name": "ipython",
    "version": 3
   },
   "file_extension": ".py",
   "mimetype": "text/x-python",
   "name": "python",
   "nbconvert_exporter": "python",
   "pygments_lexer": "ipython3",
   "version": "3.12.7"
  }
 },
 "nbformat": 4,
 "nbformat_minor": 5
}
