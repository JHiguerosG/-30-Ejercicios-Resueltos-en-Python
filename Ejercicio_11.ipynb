{
 "cells": [
  {
   "cell_type": "markdown",
   "id": "42a46676-950a-4332-8dd5-a5c6d7d0d9e8",
   "metadata": {},
   "source": [
    "# Ejercicio 11: Números Positivos y Negativos\n",
    "\n",
    "## Enunciado:\n",
    "\n",
    "Escribir un programa que solicite al usuario un número entero y muestre en pantalla si el número es Positivo (**+**) o Negativo (**-**). En caso de que el número sea igual a cero (**0**) se debe mostrar en pantalla: El número no es Positivo ni Negativo."
   ]
  },
  {
   "cell_type": "code",
   "execution_count": 10,
   "id": "9e371302-c49a-43f0-b2a7-75fc1a61efa9",
   "metadata": {},
   "outputs": [
    {
     "name": "stdin",
     "output_type": "stream",
     "text": [
      ">>> Ingresa un número entero: 0\n"
     ]
    },
    {
     "name": "stdout",
     "output_type": "stream",
     "text": [
      "El número no es Positivo ni Negativo\n"
     ]
    }
   ],
   "source": [
    "while True:\n",
    "    try:\n",
    "        entrada = float(input('>>> Ingresa un número entero:'))\n",
    "        if entrada == 0:\n",
    "            print('El número no es Positivo ni Negativo')\n",
    "            break\n",
    "        elif entrada > 0:\n",
    "            print('El número es Positivo')\n",
    "            break\n",
    "        else:\n",
    "            print('El número es Negativo')\n",
    "            break\n",
    "    except:\n",
    "        print('>>> Debes ingresar un número entero, prueba otra vez.')"
   ]
  }
 ],
 "metadata": {
  "kernelspec": {
   "display_name": "Python 3 (ipykernel)",
   "language": "python",
   "name": "python3"
  },
  "language_info": {
   "codemirror_mode": {
    "name": "ipython",
    "version": 3
   },
   "file_extension": ".py",
   "mimetype": "text/x-python",
   "name": "python",
   "nbconvert_exporter": "python",
   "pygments_lexer": "ipython3",
   "version": "3.12.7"
  }
 },
 "nbformat": 4,
 "nbformat_minor": 5
}
