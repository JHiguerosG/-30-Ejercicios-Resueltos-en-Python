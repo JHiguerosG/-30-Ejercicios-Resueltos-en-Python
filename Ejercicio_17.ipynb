{
 "cells": [
  {
   "cell_type": "markdown",
   "id": "416099e9-a723-46f6-b934-77992443c82b",
   "metadata": {},
   "source": [
    "# Ejercicio 17: Mayor de 5 Números\n",
    "\n",
    "## ► Enunciado:\n",
    "\n",
    "Escribir un programa que solicite al usuario **5** números, compararlos y decir cual es mayor."
   ]
  },
  {
   "cell_type": "code",
   "execution_count": 21,
   "id": "f40fef20-f123-4a04-b871-630d98143f24",
   "metadata": {},
   "outputs": [
    {
     "name": "stdin",
     "output_type": "stream",
     "text": [
      ">>> Ingresa un número (entero o flotante):  12\n",
      ">>> Ingresa un número (entero o flotante):  458.5\n",
      ">>> Ingresa un número (entero o flotante):  0.1\n",
      ">>> Ingresa un número (entero o flotante):  -48\n",
      ">>> Ingresa un número (entero o flotante):  -250\n"
     ]
    },
    {
     "name": "stdout",
     "output_type": "stream",
     "text": [
      "\n",
      "El número mayor es: 458.5\n"
     ]
    }
   ],
   "source": [
    "numeros = []\n",
    "\n",
    "while len(numeros) < 5:\n",
    "    num1 = input('>>> Ingresa un número (entero o flotante): ')\n",
    "    \n",
    "    if num1.replace('.', '', 1).replace('-', '', 1).isdigit():\n",
    "        numeros.append(float(num1))\n",
    "    else:\n",
    "        print('Solo puedes ingresar números. Prueba otra vez.')\n",
    "\n",
    "numero_mayor = num1\n",
    "\n",
    "for i in numeros:\n",
    "    if i > float(numero_mayor):\n",
    "        numero_mayor = i\n",
    "        \n",
    "print(f'\\nEl número mayor es: {numero_mayor}')"
   ]
  }
 ],
 "metadata": {
  "kernelspec": {
   "display_name": "Python 3 (ipykernel)",
   "language": "python",
   "name": "python3"
  },
  "language_info": {
   "codemirror_mode": {
    "name": "ipython",
    "version": 3
   },
   "file_extension": ".py",
   "mimetype": "text/x-python",
   "name": "python",
   "nbconvert_exporter": "python",
   "pygments_lexer": "ipython3",
   "version": "3.12.3"
  }
 },
 "nbformat": 4,
 "nbformat_minor": 5
}
