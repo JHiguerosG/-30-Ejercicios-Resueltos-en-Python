{
 "cells": [
  {
   "cell_type": "markdown",
   "id": "66ba3a7b-d0c4-4f83-99ef-954e33f32d1e",
   "metadata": {},
   "source": [
    "# Ejercicio 2: Guardar una cadena en una variable\n",
    "\n",
    "## Enunciado:\n",
    "\n",
    "Escribir un programa que almacene la cadena **¡Hola Mundo!** en una variable y luego muestre por pantalla el contenido de la variable."
   ]
  },
  {
   "cell_type": "code",
   "execution_count": 1,
   "id": "2370800b-1716-40f7-ad0c-d0ab869e7121",
   "metadata": {},
   "outputs": [],
   "source": [
    "saludo = '¡Hola Mundo!'"
   ]
  },
  {
   "cell_type": "code",
   "execution_count": 2,
   "id": "bc222d46-9a8a-4e33-85bf-9f83e8e85877",
   "metadata": {},
   "outputs": [
    {
     "name": "stdout",
     "output_type": "stream",
     "text": [
      "¡Hola Mundo!\n"
     ]
    }
   ],
   "source": [
    "print(saludo)"
   ]
  }
 ],
 "metadata": {
  "kernelspec": {
   "display_name": "Python 3 (ipykernel)",
   "language": "python",
   "name": "python3"
  },
  "language_info": {
   "codemirror_mode": {
    "name": "ipython",
    "version": 3
   },
   "file_extension": ".py",
   "mimetype": "text/x-python",
   "name": "python",
   "nbconvert_exporter": "python",
   "pygments_lexer": "ipython3",
   "version": "3.12.7"
  }
 },
 "nbformat": 4,
 "nbformat_minor": 5
}
