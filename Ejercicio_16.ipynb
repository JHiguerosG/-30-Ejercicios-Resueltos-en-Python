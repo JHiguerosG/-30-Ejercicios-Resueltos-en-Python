{
 "cells": [
  {
   "cell_type": "markdown",
   "id": "a6ac1940-3c5e-42b7-8b1e-583ded02b772",
   "metadata": {},
   "source": [
    "# Ejercicio 16: Mayor de 3 Números\n",
    "\n",
    "## ► Enunciado:\n",
    "\n",
    "Escribir un programa que solicite al usuario 3 números, compararlos y decir cual es mayor."
   ]
  },
  {
   "cell_type": "code",
   "execution_count": 32,
   "id": "40a29171-a2bb-44a2-a941-1ba789f3b248",
   "metadata": {},
   "outputs": [
    {
     "name": "stdin",
     "output_type": "stream",
     "text": [
      ">>> Ingresa un número (entero o flotante):  45\n",
      ">>> Ingresa un número (entero o flotante):  150\n",
      ">>> Ingresa un número (entero o flotante):  125.2\n"
     ]
    },
    {
     "name": "stdout",
     "output_type": "stream",
     "text": [
      "\n",
      "El número mayor es: 150.0\n"
     ]
    }
   ],
   "source": [
    "numeros = []\n",
    "\n",
    "while len(numeros) < 3:\n",
    "    num1 = input('>>> Ingresa un número (entero o flotante): ')\n",
    "    \n",
    "    if num1.replace('.', '', 1).replace('-', '', 1).isdigit():\n",
    "        numeros.append(float(num1))\n",
    "    else:\n",
    "        print('Solo puedes ingresar números. Prueba otra vez.')\n",
    "\n",
    "numero_mayor = num1\n",
    "\n",
    "for i in numeros:\n",
    "    if i > float(numero_mayor):\n",
    "        numero_mayor = i\n",
    "        \n",
    "print(f'\\nEl número mayor es: {numero_mayor}')\n"
   ]
  },
  {
   "cell_type": "code",
   "execution_count": 27,
   "id": "47fe913a-22f1-4fdf-ab06-6ae6bed16e1b",
   "metadata": {},
   "outputs": [
    {
     "name": "stdin",
     "output_type": "stream",
     "text": [
      "Introduce el primer  numero:  4\n",
      "Introduce el segundo numero:  8\n",
      "Introduce el tercer  numero:  100\n"
     ]
    },
    {
     "name": "stdout",
     "output_type": "stream",
     "text": [
      ">>> El numero maximo es: 100.00\n"
     ]
    }
   ],
   "source": [
    "# Declaracion de variables\n",
    "primer_numero  = 0.0\n",
    "segundo_numero = 0.0\n",
    "tercer_numero  = 0.0\n",
    " \n",
    "# Solicitud de datos\n",
    "primer_numero  = float(input('Introduce el primer  numero: '))\n",
    "segundo_numero = float(input('Introduce el segundo numero: '))\n",
    "tercer_numero  = float(input('Introduce el tercer  numero: '))\n",
    " \n",
    "if primer_numero > segundo_numero:\n",
    "    if primer_numero > tercer_numero:\n",
    "        maximo = primer_numero\n",
    "    else:\n",
    "        maximo = tercer_numero\n",
    "else:\n",
    "    if segundo_numero > tercer_numero:\n",
    "        maximo = segundo_numero\n",
    "    else:\n",
    "        maximo = tercer_numero\n",
    " \n",
    "print('>>> El numero maximo es: %5.2f' %(maximo))"
   ]
  }
 ],
 "metadata": {
  "kernelspec": {
   "display_name": "Python 3 (ipykernel)",
   "language": "python",
   "name": "python3"
  },
  "language_info": {
   "codemirror_mode": {
    "name": "ipython",
    "version": 3
   },
   "file_extension": ".py",
   "mimetype": "text/x-python",
   "name": "python",
   "nbconvert_exporter": "python",
   "pygments_lexer": "ipython3",
   "version": "3.12.3"
  }
 },
 "nbformat": 4,
 "nbformat_minor": 5
}
