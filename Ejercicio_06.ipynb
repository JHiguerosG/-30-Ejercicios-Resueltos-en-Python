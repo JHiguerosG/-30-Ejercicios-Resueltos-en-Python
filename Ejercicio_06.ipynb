{
 "cells": [
  {
   "cell_type": "markdown",
   "id": "a5b666e0-3fef-42e6-94e8-4c7481f92ab4",
   "metadata": {},
   "source": [
    "# Ejercicio 6: Área de un Triángulo\n",
    "\n",
    "## Enunciado:\n",
    "\n",
    "Programa que solicite al usuario los datos para calcular el área de un Triángulo (▲), finalmente mostrar el resultado en pantalla.\n",
    "\n",
    "► Fórmula: Área del Triángulo\n",
    "\n",
    "$$\\text{Área} = \\frac{Base*Altura}{2}$$"
   ]
  },
  {
   "cell_type": "code",
   "execution_count": 4,
   "id": "91b2639f-3010-42b4-be2d-4e2b12ddccee",
   "metadata": {},
   "outputs": [
    {
     "name": "stdout",
     "output_type": "stream",
     "text": [
      ">>> CALCULAR EL ÁREA DE UN TRIÁNGULO\n"
     ]
    },
    {
     "name": "stdin",
     "output_type": "stream",
     "text": [
      ">>> Ingresa el valor de la base:  12\n",
      ">>> Ingresa el valor de la altura:  15\n"
     ]
    },
    {
     "name": "stdout",
     "output_type": "stream",
     "text": [
      "El área del Triángulo es: 90.0\n"
     ]
    }
   ],
   "source": [
    "print('>>> CALCULAR EL ÁREA DE UN TRIÁNGULO')\n",
    "base = float(input('>>> Ingresa el valor de la base: '))\n",
    "altura = float(input('>>> Ingresa el valor de la altura: '))\n",
    "area = (base*altura) / 2\n",
    "print(f'El área del Triángulo es: {area}')"
   ]
  }
 ],
 "metadata": {
  "kernelspec": {
   "display_name": "Python 3 (ipykernel)",
   "language": "python",
   "name": "python3"
  },
  "language_info": {
   "codemirror_mode": {
    "name": "ipython",
    "version": 3
   },
   "file_extension": ".py",
   "mimetype": "text/x-python",
   "name": "python",
   "nbconvert_exporter": "python",
   "pygments_lexer": "ipython3",
   "version": "3.12.7"
  }
 },
 "nbformat": 4,
 "nbformat_minor": 5
}
