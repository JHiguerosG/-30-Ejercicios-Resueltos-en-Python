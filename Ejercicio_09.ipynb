{
 "cells": [
  {
   "cell_type": "markdown",
   "id": "b3219bcf-fd5a-4469-a0fe-c12f485ffc01",
   "metadata": {},
   "source": [
    "# Ejercicio 9: Radar de Velocidad\n",
    "\n",
    "## Enunciado:\n",
    "\n",
    "Un radar común de detección de velocidad de la policía de caminos emite un rayo de microondas a una **frecuencia f0**. El rayo es reflejado por un automóvil que se aproxima y el rayo reflejado es captado y analizado por la unidad de radar. La frecuencia del rayo reflejado es cambiada ligeramente de **f0** a **f1** debido al movimiento del automóvil.\n",
    "\n",
    "La relación entre la **velocidad** del automóvil, **v**, en millas por hora, y las **dos frecuencias de microondas** es:\n",
    "\n",
    "$$ v = \\frac{(6.685 \\times 10^8)(f_i - f_o)}{(f_1 + f_o)} $$\n",
    "\n",
    "Donde las ondas emitidas tienen una frecuencia de:\n",
    "\n",
    "**f0 = 2 x10^10 sec ^–1**\n",
    "\n",
    "Usando la fórmula dada, escriba un programa para calcular y desplegar la velocidad correspondiente a una frecuencia recibida de **2.0000004 x 10^10 sec–1**.\n",
    "\n",
    "Ahora aplicamos el procedimiento de desarrollo de software a este problema.\n",
    "\n",
    "► **Variables:**\n",
    "\n",
    "· **Velocidad** : Velocidad del Vehículo.\n",
    "\n",
    "· **Frecuencia0**: Frecuencia inicial.\n",
    "\n",
    "· **Frecuencia1**: Frecuencia Final.\n",
    "\n",
    "► **Salida:** \n",
    "\n",
    "![Texto alternativo](ejercicio9.jpg)"
   ]
  },
  {
   "cell_type": "code",
   "execution_count": 6,
   "id": "e9585b25-3aef-4cef-ae81-d219bd03b3cd",
   "metadata": {},
   "outputs": [
    {
     "name": "stdout",
     "output_type": "stream",
     "text": [
      "----------------------------------------\n",
      "           RADAR DE VELOCIDAD           \n",
      "----------------------------------------\n",
      ">>> La Velocidad es: 66.85 millas/hora. \n",
      "----------------------------------------\n"
     ]
    }
   ],
   "source": [
    "# Valores para dibujar la tabla\n",
    "ANCHO = 40\n",
    "RELLENO1 = '-'\n",
    "RELLENO2 = ' '\n",
    "CADENA_VACIA = ''\n",
    "\n",
    "# Mensajes a mostrar\n",
    "MENSAJE_INICIAL = 'RADAR DE VELOCIDAD'\n",
    "\n",
    "# Declaración de variables\n",
    "velocidad = 0.0\n",
    "frecuencia0 = 2e-10\n",
    "frecuencia1 = 2.0000004e-10\n",
    "\n",
    "# Formato de salida final en pantalla\n",
    "formato_respuesta = '>>> La Velocidad es: %0.2f millas/hora.'\n",
    "\n",
    "# Encabezado del Programa\n",
    "# LINEA 1: Parte superior de la Tabla\n",
    "print(CADENA_VACIA.center(ANCHO,RELLENO1))\n",
    "# Mensaje Centrado\n",
    "print(MENSAJE_INICIAL.center(ANCHO,RELLENO2))\n",
    "\n",
    "# Inicio del Programa:\n",
    "# Calculo de la VELOCIDAD del radar\n",
    "# velocidad = 6.685x10^8 x (f1 - f0) / (f1 + f0)\n",
    "velocidad = 6.685e8*(frecuencia1-frecuencia0)/(frecuencia1+frecuencia0)\n",
    "\n",
    "# LINEA 2: Separador de la tabla\n",
    "print(CADENA_VACIA.center(ANCHO,RELLENO1))\n",
    "# Se muestra el mensaje en Pantalla\n",
    "print(formato_respuesta.center(ANCHO,RELLENO2) %(velocidad))\n",
    " \n",
    "######################################################################\n",
    " \n",
    "# LINEA 3: Parte Inferior de la Tabla\n",
    "print(CADENA_VACIA.center(ANCHO,RELLENO1))"
   ]
  }
 ],
 "metadata": {
  "kernelspec": {
   "display_name": "Python 3 (ipykernel)",
   "language": "python",
   "name": "python3"
  },
  "language_info": {
   "codemirror_mode": {
    "name": "ipython",
    "version": 3
   },
   "file_extension": ".py",
   "mimetype": "text/x-python",
   "name": "python",
   "nbconvert_exporter": "python",
   "pygments_lexer": "ipython3",
   "version": "3.12.7"
  }
 },
 "nbformat": 4,
 "nbformat_minor": 5
}
