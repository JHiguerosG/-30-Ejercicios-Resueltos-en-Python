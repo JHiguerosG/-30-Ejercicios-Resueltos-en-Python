{
 "cells": [
  {
   "cell_type": "markdown",
   "id": "80d4959c-9e21-4e27-b4e1-554c709ae5ee",
   "metadata": {},
   "source": [
    "# Ejercicio 8: De Fahrenheit a Celcius\n",
    "\n",
    "## Enunciado:\n",
    "\n",
    "Programa que solicite al usuario los datos para llevar Grados Fahrenheit a Grados Celcius.\n",
    "\n",
    "► **Fórmula:** Grados Farenheit a Grados Celcius\n",
    "\n",
    "$$\\text{Celcius} = \\text{(fahrenheit - 32.0) * 5.0 / 9.0}$$"
   ]
  },
  {
   "cell_type": "code",
   "execution_count": 3,
   "id": "3140c791-71bb-4825-b476-26107112d1f5",
   "metadata": {},
   "outputs": [
    {
     "name": "stdout",
     "output_type": "stream",
     "text": [
      ">>> CONVERTIR DE FAHRENHEIT A CELSIUS\n"
     ]
    },
    {
     "name": "stdin",
     "output_type": "stream",
     "text": [
      ">>> Ingresa el valor en grados fahrenheit (°F) :  100\n"
     ]
    },
    {
     "name": "stdout",
     "output_type": "stream",
     "text": [
      "100.0 °F es igual a 37.8 °C\n"
     ]
    }
   ],
   "source": [
    "print('>>> CONVERTIR DE FAHRENHEIT A CELSIUS')\n",
    "fahrenheit = float(input('>>> Ingresa el valor en grados fahrenheit (°F) : '))\n",
    "celsius = (fahrenheit - 32.0) * (5.0/9.0)\n",
    "print(f'{fahrenheit} °F es igual a {round(celsius,1)} °C')"
   ]
  }
 ],
 "metadata": {
  "kernelspec": {
   "display_name": "Python 3 (ipykernel)",
   "language": "python",
   "name": "python3"
  },
  "language_info": {
   "codemirror_mode": {
    "name": "ipython",
    "version": 3
   },
   "file_extension": ".py",
   "mimetype": "text/x-python",
   "name": "python",
   "nbconvert_exporter": "python",
   "pygments_lexer": "ipython3",
   "version": "3.12.7"
  }
 },
 "nbformat": 4,
 "nbformat_minor": 5
}
