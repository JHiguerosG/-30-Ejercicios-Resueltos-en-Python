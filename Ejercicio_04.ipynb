{
 "cells": [
  {
   "cell_type": "markdown",
   "id": "19339434-fb06-4f85-b4a8-ad0438446fae",
   "metadata": {},
   "source": [
    "# Ejercicio 4: Suma de Números Positivos\n",
    "\n",
    "## Enunciado:\n",
    "\n",
    "Escribir un programa que lea un entero positivo, introducido por el usuario y después muestre en pantalla la suma de todos los enteros desde 1. La suma de los primeros enteros positivos puede ser calculada de la siguiente forma:\n",
    "\n",
    "$$\\text{suma} = \\frac{n(n+1)}{2}$$"
   ]
  },
  {
   "cell_type": "code",
   "execution_count": 6,
   "id": "db321844-e4e8-451e-ae5d-7da4c6dfa6d4",
   "metadata": {},
   "outputs": [
    {
     "name": "stdin",
     "output_type": "stream",
     "text": [
      ">>> Ingresa un número entero:  45\n"
     ]
    },
    {
     "name": "stdout",
     "output_type": "stream",
     "text": [
      "La suma desde 1 hasta 45 es: 1035\n"
     ]
    }
   ],
   "source": [
    "n = int(input('>>> Ingresa un número entero: '))\n",
    "suma = (n*(n+1)) // 2\n",
    "print(f\"La suma desde 1 hasta {n} es: {suma}\")"
   ]
  }
 ],
 "metadata": {
  "kernelspec": {
   "display_name": "Python 3 (ipykernel)",
   "language": "python",
   "name": "python3"
  },
  "language_info": {
   "codemirror_mode": {
    "name": "ipython",
    "version": 3
   },
   "file_extension": ".py",
   "mimetype": "text/x-python",
   "name": "python",
   "nbconvert_exporter": "python",
   "pygments_lexer": "ipython3",
   "version": "3.12.7"
  }
 },
 "nbformat": 4,
 "nbformat_minor": 5
}
