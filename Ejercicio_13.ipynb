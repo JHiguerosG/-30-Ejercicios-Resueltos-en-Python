{
 "cells": [
  {
   "cell_type": "markdown",
   "id": "a41fe71e-54b4-44b1-add2-7594e1376abe",
   "metadata": {},
   "source": [
    "# Ejercicio 13: Número par o impar\n",
    "\n",
    "## ► Enunciado:\n",
    "\n",
    "Introducir un número por teclado y que se muestre un mensaje indicando si es par o impar."
   ]
  },
  {
   "cell_type": "code",
   "execution_count": 26,
   "id": "7955f6b4-2ad4-4053-ad65-d1c976e9d51b",
   "metadata": {},
   "outputs": [
    {
     "name": "stdin",
     "output_type": "stream",
     "text": [
      ">>> Ingresar un número entero positivo mayor a 0:  105\n"
     ]
    },
    {
     "name": "stdout",
     "output_type": "stream",
     "text": [
      "\n",
      "El número 105 es impar.\n"
     ]
    }
   ],
   "source": [
    "while True:\n",
    "    try:\n",
    "        num = int(input('>>> Ingresar un número entero positivo mayor a 0: '))\n",
    "        \n",
    "        if num < 1:\n",
    "            print('\\nDebes ingresar un número mayor a 0.\\n')\n",
    "            continue\n",
    "        else:\n",
    "            break\n",
    "            \n",
    "    except ValueError:\n",
    "        print('\\nSolo se permiten números mayores a 0. Prueba otra vez.\\n')\n",
    "\n",
    "print(f'\\nEl número {num} es par.' if num % 2 == 0 else f'\\nEl número {num} es impar.')\n"
   ]
  }
 ],
 "metadata": {
  "kernelspec": {
   "display_name": "Python 3 (ipykernel)",
   "language": "python",
   "name": "python3"
  },
  "language_info": {
   "codemirror_mode": {
    "name": "ipython",
    "version": 3
   },
   "file_extension": ".py",
   "mimetype": "text/x-python",
   "name": "python",
   "nbconvert_exporter": "python",
   "pygments_lexer": "ipython3",
   "version": "3.12.3"
  }
 },
 "nbformat": 4,
 "nbformat_minor": 5
}
