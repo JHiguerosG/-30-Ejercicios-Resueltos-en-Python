{
 "cells": [
  {
   "cell_type": "markdown",
   "id": "15846438-d8d0-4fcd-8128-1b722cf39f5a",
   "metadata": {},
   "source": [
    "# Ejercicio 7: Área de un Círculo\n",
    "\n",
    "## Enunciado:\n",
    "\n",
    "Programa que solicite al usuario los datos para calcular el área de un Círculo (●), finalmente mostrar el resultado en pantalla.\n",
    "\n",
    "► **Fórmula:** Área del Círculo\n",
    "\n",
    "$$\\text{Área} = {PI*(Radio ^ 2)}$$"
   ]
  },
  {
   "cell_type": "code",
   "execution_count": 4,
   "id": "746ef45d-12f6-43a8-9e95-de8d98114de3",
   "metadata": {},
   "outputs": [
    {
     "name": "stdout",
     "output_type": "stream",
     "text": [
      ">>> CALCULAR EL ÁREA DE UN CÍRCULO\n"
     ]
    },
    {
     "name": "stdin",
     "output_type": "stream",
     "text": [
      ">>> Ingresa el valor del radio:  10\n"
     ]
    },
    {
     "name": "stdout",
     "output_type": "stream",
     "text": [
      "El área del Círculo es: 314.16\n"
     ]
    }
   ],
   "source": [
    "print('>>> CALCULAR EL ÁREA DE UN CÍRCULO')\n",
    "radio = float(input('>>> Ingresa el valor del radio: '))\n",
    "PI = 3.141592 # Declaración de constante\n",
    "area = PI * (radio ** 2)\n",
    "print(f'El área del Círculo es: {round(area, 2)}')"
   ]
  }
 ],
 "metadata": {
  "kernelspec": {
   "display_name": "Python 3 (ipykernel)",
   "language": "python",
   "name": "python3"
  },
  "language_info": {
   "codemirror_mode": {
    "name": "ipython",
    "version": 3
   },
   "file_extension": ".py",
   "mimetype": "text/x-python",
   "name": "python",
   "nbconvert_exporter": "python",
   "pygments_lexer": "ipython3",
   "version": "3.12.7"
  }
 },
 "nbformat": 4,
 "nbformat_minor": 5
}
