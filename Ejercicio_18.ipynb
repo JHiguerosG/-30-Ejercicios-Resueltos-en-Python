{
 "cells": [
  {
   "cell_type": "markdown",
   "id": "76c0ce68-8366-4710-9f0d-0d815ee524fd",
   "metadata": {},
   "source": [
    "# Ejercicio 18: Número más Cercano\n",
    "\n",
    "## ► Enunciado:\n",
    "\n",
    "Escribir un programa en el cual, dados **5** números enteros solicitados al usuario, determinar cuál de los **4** números enteros es más cercano al primero."
   ]
  },
  {
   "cell_type": "code",
   "execution_count": 38,
   "id": "1c6b745d-bac3-42fa-840c-8d2eb1cc4bcd",
   "metadata": {},
   "outputs": [
    {
     "name": "stdout",
     "output_type": "stream",
     "text": [
      "1, 2, 3\n"
     ]
    }
   ],
   "source": [
    "a = [1, 2, 3]\n",
    "resultado = \", \".join(map(str, a))\n",
    "print(resultado)"
   ]
  },
  {
   "cell_type": "code",
   "execution_count": 46,
   "id": "015298a9-7a31-4c0d-bd95-b5145b6df428",
   "metadata": {},
   "outputs": [
    {
     "name": "stdin",
     "output_type": "stream",
     "text": [
      ">>> Ingresa un número entero:  3\n",
      ">>> Ingresa un número entero:  2\n",
      ">>> Ingresa un número entero:  4\n",
      ">>> Ingresa un número entero:  5\n",
      ">>> Ingresa un número entero:  6\n"
     ]
    },
    {
     "name": "stdout",
     "output_type": "stream",
     "text": [
      "\n",
      "No. 1 = 3\n",
      "No. 2 = 2\n",
      "No. 3 = 4\n",
      "No. 4 = 5\n",
      "No. 5 = 6\n",
      "\n",
      "Los números más cercanos a 3 son: 2, 4\n"
     ]
    }
   ],
   "source": [
    "numeros = []\n",
    "while len(numeros) < 5:\n",
    "    try:\n",
    "        num = int(input('>>> Ingresa un número entero: '))\n",
    "        numeros.append(num)\n",
    "    except ValueError:\n",
    "        print('Solo puedes ingresar números enteros. Prueba otra vez.')\n",
    "\n",
    "diferencia_minima = min(abs(x - numeros[0]) for x in numeros[1:])\n",
    "numeros_cercanos = [x for x in numeros[1:] if abs(x - numeros[0]) == diferencia_minima]\n",
    "\n",
    "print(f'\\nNo. 1 = {numeros[0]}\\nNo. 2 = {numeros[1]}\\nNo. 3 = {numeros[2]}\\nNo. 4 = {numeros[3]}\\nNo. 5 = {numeros[4]}\\n')\n",
    "print(f'El número más cercano a {numeros[0]} es: {\"\".join(map(str, numeros_cercanos))}' if len(numeros_cercanos) == 1 else f'Los números más cercanos a {numeros[0]} son: {\", \".join(map(str, numeros_cercanos))}')\n"
   ]
  },
  {
   "cell_type": "code",
   "execution_count": 25,
   "id": "bfbfea6c-33c7-40ea-869a-924605050d1d",
   "metadata": {},
   "outputs": [
    {
     "name": "stdin",
     "output_type": "stream",
     "text": [
      "Introduce el Primer  numero:  5\n",
      "Introduce el Segundo numero:  6\n",
      "Introduce el Tercer  numero:  4\n",
      "Introduce el Cuarto  numero:  9\n",
      "Introduce el Quinto  numero:  1\n"
     ]
    },
    {
     "name": "stdout",
     "output_type": "stream",
     "text": [
      "El numero mas cercano a 5 es 6\n"
     ]
    }
   ],
   "source": [
    "# Declaracion de variables\n",
    "primer_numero  = 0.0\n",
    "segundo_numero = 0.0\n",
    "tercer_numero  = 0.0\n",
    "cuarto_numero  = 0.0\n",
    "quinto_numero  = 0.0\n",
    " \n",
    "Resta1 = 0.0\n",
    "Resta2 = 0.0\n",
    "Resta3 = 0.0\n",
    "Resta4 = 0.0\n",
    " \n",
    "# Solicitud de datos\n",
    "primer_numero  = int(input('Introduce el Primer  numero: '))\n",
    "segundo_numero = int(input('Introduce el Segundo numero: '))\n",
    "tercer_numero  = int(input('Introduce el Tercer  numero: '))\n",
    "cuarto_numero  = int(input('Introduce el Cuarto  numero: '))\n",
    "quinto_numero  = int(input('Introduce el Quinto  numero: '))\n",
    " \n",
    "# Se realizan las restas para hallar la menor diferencia\n",
    "Resta1 = primer_numero - segundo_numero\n",
    "Resta2 = primer_numero - tercer_numero\n",
    "Resta3 = primer_numero - cuarto_numero\n",
    "Resta4 = primer_numero - quinto_numero\n",
    " \n",
    "menor_diferencia = Resta1\n",
    " \n",
    "if Resta2 < menor_diferencia and Resta2 >= 0:\n",
    "   menor_diferencia = Resta2\n",
    "else:\n",
    "    if Resta2 > menor_diferencia and Resta2 <= 0:\n",
    "        menor_diferencia = Resta2\n",
    " \n",
    "if Resta3 < menor_diferencia and Resta3 >= 0:\n",
    "   menor_diferencia = Resta3\n",
    "else:\n",
    "    if Resta3 > menor_diferencia and Resta3 <= 0:\n",
    "        menor_diferencia = Resta3\n",
    " \n",
    "if Resta4 < menor_diferencia and Resta4 >= 0:\n",
    "   menor_diferencia = Resta4\n",
    "else:\n",
    "    if Resta4 > menor_diferencia and Resta4 <= 0:\n",
    "        menor_diferencia = Resta4\n",
    " \n",
    "numero_cercano = primer_numero - menor_diferencia\n",
    " \n",
    "print('El numero mas cercano a %d es %d'%(primer_numero,numero_cercano))"
   ]
  }
 ],
 "metadata": {
  "kernelspec": {
   "display_name": "Python 3 (ipykernel)",
   "language": "python",
   "name": "python3"
  },
  "language_info": {
   "codemirror_mode": {
    "name": "ipython",
    "version": 3
   },
   "file_extension": ".py",
   "mimetype": "text/x-python",
   "name": "python",
   "nbconvert_exporter": "python",
   "pygments_lexer": "ipython3",
   "version": "3.12.3"
  }
 },
 "nbformat": 4,
 "nbformat_minor": 5
}
