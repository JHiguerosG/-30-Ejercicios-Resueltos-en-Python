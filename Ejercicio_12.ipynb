{
 "cells": [
  {
   "cell_type": "markdown",
   "id": "d9abba2f-2d38-4d66-aff1-afea204ab606",
   "metadata": {},
   "source": [
    "# Ejercicio 12: Edad de 2 Personas\n",
    "\n",
    "## Enunciado:\n",
    "\n",
    "Escribir un Programa que solicite al usuario la edad de 2 personas, y diga cuál es mayor. Ejemplo:\n",
    "\n",
    "- La Primera persona es mayor!\n",
    "\n",
    "Si la edad de ambos es igual se muestra el siguiente mensaje:\n",
    "\n",
    "- Ambos tienen la misma edad!"
   ]
  },
  {
   "cell_type": "code",
   "execution_count": 5,
   "id": "89fe174e-73bb-4f40-9ba5-3c9e21c8b678",
   "metadata": {},
   "outputs": [
    {
     "name": "stdin",
     "output_type": "stream",
     "text": [
      ">>> ¿Cuál es la edad de la primera persona?  25\n",
      ">>> ¿Cuál es la edad de la segunda persona?  26\n"
     ]
    },
    {
     "name": "stdout",
     "output_type": "stream",
     "text": [
      "¡La segunda persona es mayor!\n"
     ]
    }
   ],
   "source": [
    "while True:\n",
    "    try:\n",
    "        edad1 = int(input('>>> ¿Cuál es la edad de la primera persona? '))\n",
    "        edad2 = int(input('>>> ¿Cuál es la edad de la segunda persona? '))\n",
    "        if edad1 > edad2:\n",
    "            print('¡La primera persona es mayor!')\n",
    "        elif edad1 < edad2:\n",
    "            print('¡La segunda persona es mayor!')\n",
    "        else:\n",
    "            print('¡Ambos tienen la misma edad!')\n",
    "        break\n",
    "    except:\n",
    "        print('>>> La edad debe ser ingresada en números enteros, intenta de nuevo. ')"
   ]
  }
 ],
 "metadata": {
  "kernelspec": {
   "display_name": "Python 3 (ipykernel)",
   "language": "python",
   "name": "python3"
  },
  "language_info": {
   "codemirror_mode": {
    "name": "ipython",
    "version": 3
   },
   "file_extension": ".py",
   "mimetype": "text/x-python",
   "name": "python",
   "nbconvert_exporter": "python",
   "pygments_lexer": "ipython3",
   "version": "3.12.7"
  }
 },
 "nbformat": 4,
 "nbformat_minor": 5
}
