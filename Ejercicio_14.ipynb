{
 "cells": [
  {
   "cell_type": "markdown",
   "id": "ab6478d0-6d3f-46a7-a4b5-5b0f151f1184",
   "metadata": {},
   "source": [
    "# Ejercicio 14: Múltiplos de 3\n",
    "\n",
    "# ► Enunciado:\n",
    "\n",
    "Introducir un número por teclado y que se muestre un mensaje indicando si es múltiplo de 3."
   ]
  },
  {
   "cell_type": "code",
   "execution_count": 13,
   "id": "74a99228-63d3-4053-84e0-79912cabfff5",
   "metadata": {},
   "outputs": [
    {
     "data": {
      "text/plain": [
       "[3, 6, 9, 12, 15, 18, 21, 24, 27, 30, 33, 36, 39, 42, 45, 48]"
      ]
     },
     "execution_count": 13,
     "metadata": {},
     "output_type": "execute_result"
    }
   ],
   "source": [
    "# Lista con los múltiplos de 3 hasta el 50 para comprobación.\n",
    "a = [i for i in range(1, 50) if i%3 == 0]\n",
    "a"
   ]
  },
  {
   "cell_type": "code",
   "execution_count": 10,
   "id": "e1aa8be6-7913-4764-9c04-4543cb12b82d",
   "metadata": {},
   "outputs": [
    {
     "name": "stdin",
     "output_type": "stream",
     "text": [
      ">>> Ingresar un número entero positivo mayor a 0:  48\n"
     ]
    },
    {
     "name": "stdout",
     "output_type": "stream",
     "text": [
      "\n",
      "El número 48 es múltiplo de 3.\n"
     ]
    }
   ],
   "source": [
    "while True:\n",
    "    try:\n",
    "        num = int(input('>>> Ingresar un número entero positivo mayor a 0: '))\n",
    "        \n",
    "        if num < 1:\n",
    "            print('\\nDebes ingresar un número mayor a 0.\\n')\n",
    "            continue\n",
    "        else:\n",
    "            break\n",
    "            \n",
    "    except ValueError:\n",
    "        print('\\nSolo se permiten números mayores a 0. Prueba otra vez.\\n')\n",
    "\n",
    "print(f'\\nEl número {num} es múltiplo de 3.' if num % 3 == 0 else f'\\nEl número {num} no es múltiplo de 3.')"
   ]
  },
  {
   "cell_type": "code",
   "execution_count": 21,
   "id": "79e0d3fe-b609-40f7-b1e8-7f8b8b092d10",
   "metadata": {},
   "outputs": [
    {
     "name": "stdin",
     "output_type": "stream",
     "text": [
      ">>> Introduce un numero:  56\n"
     ]
    },
    {
     "name": "stdout",
     "output_type": "stream",
     "text": [
      "El numero 56 no es multiplo de 3.\n"
     ]
    }
   ],
   "source": [
    "# Declaracion de variables:\n",
    "int_Numero = 0\n",
    " \n",
    "# Solicitud de Datos \n",
    "int_Numero = int(input('>>> Introduce un numero: '))\n",
    " \n",
    "if int_Numero == (int_Numero // 3) * 3:\n",
    "    print(\"El numero %d es multiplo de 3.\" %(int_Numero))\n",
    "else:\n",
    "    print(\"El numero %d no es multiplo de 3.\" %(int_Numero))"
   ]
  }
 ],
 "metadata": {
  "kernelspec": {
   "display_name": "Python 3 (ipykernel)",
   "language": "python",
   "name": "python3"
  },
  "language_info": {
   "codemirror_mode": {
    "name": "ipython",
    "version": 3
   },
   "file_extension": ".py",
   "mimetype": "text/x-python",
   "name": "python",
   "nbconvert_exporter": "python",
   "pygments_lexer": "ipython3",
   "version": "3.12.3"
  }
 },
 "nbformat": 4,
 "nbformat_minor": 5
}
