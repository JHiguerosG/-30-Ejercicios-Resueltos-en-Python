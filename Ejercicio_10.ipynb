{
 "cells": [
  {
   "cell_type": "markdown",
   "id": "75e61656-b9a4-4fcf-88d9-60f2afb04264",
   "metadata": {},
   "source": [
    "# Ejercicio 10: Calculadora Freelancer\n",
    "\n",
    "## Enunciado:\n",
    "\n",
    "Un Freelancer desea saber cuánto puede cobrar por su trabajo **semanal** y **mensualmente**, para ello solo necesita establecer el precio de su trabajo por hora.\n",
    "\n",
    "Se estiman **40** horas de trabajo a la semana.\n",
    "\n",
    "Las **Fórmulas** para calcular el pago **Semanal** y **Mensual** son:\n",
    "\n",
    "**1) Pago_Semanal = (DolaresPorHora x 40)**\n",
    "\n",
    "**2) Pago_Mensual = (DolaresPorHora x 160)**\n",
    "\n",
    "► **Variables:**\n",
    "\n",
    "- **Dolares_Por_Hora**: Cantidad de Dólares que gana el Freelancer por hora.\n",
    "- **Pago_Semanal**: Almacena el resultado del pago semanal.\n",
    "- **Pago_Mensual**: Almacena el resultado del pago mensual.\n",
    "\n",
    "► **Salida:**\n",
    "\n",
    "![Texto alternativo](ejercicio10.jpg)"
   ]
  },
  {
   "cell_type": "code",
   "execution_count": 35,
   "id": "0be10686-b914-4217-bc11-fb0d6c4a43b3",
   "metadata": {},
   "outputs": [
    {
     "name": "stdin",
     "output_type": "stream",
     "text": [
      ">>> ¿Cuál es el precio por hora (USD)?:  Veinte\n"
     ]
    },
    {
     "name": "stdout",
     "output_type": "stream",
     "text": [
      "----------------------------------------\n",
      "       Solo se permiten números.        \n",
      "           Intenta de nuevo.            \n"
     ]
    },
    {
     "name": "stdin",
     "output_type": "stream",
     "text": [
      ">>> ¿Cuál es el precio por hora (USD)?:  20\n"
     ]
    },
    {
     "name": "stdout",
     "output_type": "stream",
     "text": [
      "----------------------------------------\n",
      "      CALCULADORA FREELANCER (USD)      \n",
      "----------------------------------------\n",
      ">>> Precio en dólares por hora: 20.0\n",
      "----------------------------------------\n",
      ">>> PAGO SEMANAL: 800.0\n",
      ">>> PAGO MENSUAL: 3200.0\n",
      "----------------------------------------\n"
     ]
    }
   ],
   "source": [
    "# Valores para dibujar la tabla\n",
    "ANCHO = 40\n",
    "RELLENO1 = '-'\n",
    "RELLENO2 = ' '\n",
    "CADENA_VACIA = ''\n",
    "\n",
    "# Mensajes a mostrar\n",
    "MENSAJE_INICIAL = 'CALCULADORA FREELANCER (USD)'\n",
    "\n",
    "# Declaración de variables\n",
    "hrs_trabajo_semanal = 40\n",
    "hrs_trabajo_mensual = hrs_trabajo_semanal * 4\n",
    "\n",
    "# Inicio del programa\n",
    "while True:\n",
    "    try:\n",
    "        # Solicitar datos\n",
    "        dolares_hora = float(input('>>> ¿Cuál es el precio por hora (USD)?: '))\n",
    "        \n",
    "        # Calculos de pagos\n",
    "        pago_semanal = dolares_hora * hrs_trabajo\n",
    "        pago_mensual = dolares_hora * hrs_trabajo_mensual\n",
    "    \n",
    "        print(CADENA_VACIA.center(ANCHO, RELLENO1))\n",
    "        print(MENSAJE_INICIAL.center(ANCHO, RELLENO2))\n",
    "        print(CADENA_VACIA.center(ANCHO, RELLENO1))\n",
    "        print(f'>>> Precio en dólares por hora: {dolares_hora}')\n",
    "        print(CADENA_VACIA.center(ANCHO, RELLENO1))\n",
    "        print(f'>>> PAGO SEMANAL: {float(pago_semanal)}')\n",
    "        print(f'>>> PAGO MENSUAL: {float(pago_mensual)}')\n",
    "        print(CADENA_VACIA.center(ANCHO, RELLENO1))\n",
    "        break\n",
    "        \n",
    "    except ValueError:\n",
    "        print(CADENA_VACIA.center(ANCHO,RELLENO1))\n",
    "        print('Solo se permiten números.'.center(ANCHO,RELLENO2))\n",
    "        print('Intenta de nuevo.'.center(ANCHO,RELLENO2))\n",
    "    "
   ]
  }
 ],
 "metadata": {
  "kernelspec": {
   "display_name": "Python 3 (ipykernel)",
   "language": "python",
   "name": "python3"
  },
  "language_info": {
   "codemirror_mode": {
    "name": "ipython",
    "version": 3
   },
   "file_extension": ".py",
   "mimetype": "text/x-python",
   "name": "python",
   "nbconvert_exporter": "python",
   "pygments_lexer": "ipython3",
   "version": "3.12.7"
  }
 },
 "nbformat": 4,
 "nbformat_minor": 5
}
