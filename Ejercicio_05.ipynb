{
 "cells": [
  {
   "cell_type": "markdown",
   "id": "0898eebd-9139-44d6-9a01-af5a026ca08b",
   "metadata": {},
   "source": [
    "# Ejercicio 5: Área de un Cuadrado\n",
    "\n",
    "## Enunciado:\n",
    "\n",
    "Programa que solicite al usuario los datos para calcular el área de un Cuadrado (■), finalmente mostrar el resultado en pantalla.\n",
    "\n",
    "► **Fórmula**: Área del cuadrado\n",
    "\n",
    "Area = Lado ** 2\n",
    "\n",
    "$$\\text{Área} = \\text{Lado}^2$$"
   ]
  },
  {
   "cell_type": "code",
   "execution_count": 3,
   "id": "f4b7bedd-71fc-449e-8b15-b5c670716811",
   "metadata": {},
   "outputs": [
    {
     "name": "stdout",
     "output_type": "stream",
     "text": [
      ">>> CALCULAR EL ÁREA DE UN CUADRADO\n"
     ]
    },
    {
     "name": "stdin",
     "output_type": "stream",
     "text": [
      ">>> Ingresa el valor del lado del cuadrado: 25.2\n"
     ]
    },
    {
     "name": "stdout",
     "output_type": "stream",
     "text": [
      "El área del cuadrado es: 635.04\n"
     ]
    }
   ],
   "source": [
    "print('>>> CALCULAR EL ÁREA DE UN CUADRADO')\n",
    "lado = float(input('>>> Ingresa el valor del lado del cuadrado:'))\n",
    "area = lado**2\n",
    "print(f'El área del cuadrado es: {area}')"
   ]
  }
 ],
 "metadata": {
  "kernelspec": {
   "display_name": "Python 3 (ipykernel)",
   "language": "python",
   "name": "python3"
  },
  "language_info": {
   "codemirror_mode": {
    "name": "ipython",
    "version": 3
   },
   "file_extension": ".py",
   "mimetype": "text/x-python",
   "name": "python",
   "nbconvert_exporter": "python",
   "pygments_lexer": "ipython3",
   "version": "3.12.7"
  }
 },
 "nbformat": 4,
 "nbformat_minor": 5
}
